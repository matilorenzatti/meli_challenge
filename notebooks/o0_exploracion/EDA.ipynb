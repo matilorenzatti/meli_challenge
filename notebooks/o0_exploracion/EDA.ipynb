{
 "cells": [
  {
   "cell_type": "markdown",
   "id": "ee82278e",
   "metadata": {},
   "source": [
    "# EDA - Explorando API's y datos\n",
    "---\n",
    "\n",
    "Este notebook tiene la finalidad de explorar las API y los datos, conoce su estructura, y empezar a formalizar la extraccion de los mismos"
   ]
  },
  {
   "cell_type": "code",
   "execution_count": 1,
   "id": "84d9177b",
   "metadata": {},
   "outputs": [],
   "source": [
    "# Importamos las librerias necesarias para trabajar\n",
    "\n",
    "import requests\n",
    "import pandas as pd\n",
    "import json\n",
    "import os\n",
    "from meli_project.params import *"
   ]
  },
  {
   "cell_type": "code",
   "execution_count": 2,
   "id": "fafbbc2a",
   "metadata": {},
   "outputs": [],
   "source": [
    "# Configuración para recargar automáticamente módulos modificados\n",
    "%load_ext autoreload\n",
    "%autoreload 2"
   ]
  },
  {
   "cell_type": "code",
   "execution_count": 3,
   "id": "1c0a9b2e",
   "metadata": {},
   "outputs": [],
   "source": [
    "# Modificamos la configuracion para mostrar todas las columnas en los DF\n",
    "\n",
    "pd.set_option('display.max_columns',None)"
   ]
  },
  {
   "cell_type": "code",
   "execution_count": 9,
   "id": "181f47e8",
   "metadata": {},
   "outputs": [],
   "source": [
    "# Parámetros para la API\n",
    "\n",
    "base_url = \"https://data360api.worldbank.org/data360/data\"\n",
    "\n",
    "params = {\n",
    "    \"DATABASE_ID\": \"ITU_DH\",\n",
    "    \"INDICATOR\": \"ITU_DH_HH_INT\",  # Ejemplo: hogares con acceso a Internet\n",
    "    \"REF_AREA\": \"ARG\",             # Argentina\n",
    "}\n",
    "\n",
    "headers = {\n",
    "    \"Accept\": \"application/json\"\n",
    "}"
   ]
  },
  {
   "cell_type": "code",
   "execution_count": 10,
   "id": "1cf8e6c5",
   "metadata": {},
   "outputs": [],
   "source": [
    "# Realizar la petición\n",
    "response = requests.get(base_url, params=params, headers=headers)"
   ]
  },
  {
   "cell_type": "code",
   "execution_count": 19,
   "id": "90a5f4c9",
   "metadata": {},
   "outputs": [],
   "source": [
    "respuesta_json = response.json()[\"value\"]"
   ]
  },
  {
   "cell_type": "code",
   "execution_count": 20,
   "id": "0f9c7fd7",
   "metadata": {},
   "outputs": [],
   "source": [
    "df_test = pd.json_normalize(respuesta_json)"
   ]
  },
  {
   "cell_type": "code",
   "execution_count": null,
   "id": "a83de551",
   "metadata": {},
   "outputs": [],
   "source": []
  },
  {
   "cell_type": "code",
   "execution_count": 4,
   "id": "617cc03d",
   "metadata": {},
   "outputs": [],
   "source": [
    "from meli_project.logic.o1_extraction.api_wb import DataWB\n",
    "from meli_project.logic.utils.utils import *"
   ]
  },
  {
   "cell_type": "code",
   "execution_count": 5,
   "id": "8e7d1945",
   "metadata": {},
   "outputs": [],
   "source": [
    "wb_test_arg = DataWB()"
   ]
  },
  {
   "cell_type": "code",
   "execution_count": 6,
   "id": "ab9a99b4",
   "metadata": {},
   "outputs": [
    {
     "data": {
      "text/plain": [
       "'✅ Todos los 39 indicadores fueron extraídos correctamente.'"
      ]
     },
     "execution_count": 6,
     "metadata": {},
     "output_type": "execute_result"
    }
   ],
   "source": [
    "wb_test_arg.obtener_all_data()"
   ]
  },
  {
   "cell_type": "code",
   "execution_count": 7,
   "id": "7294bfc4",
   "metadata": {},
   "outputs": [],
   "source": [
    "from meli_project.logic.o2_cleaning.clean_json import DFsWB"
   ]
  },
  {
   "cell_type": "code",
   "execution_count": 8,
   "id": "1086b7ba",
   "metadata": {},
   "outputs": [],
   "source": [
    "dfs_wb = DFsWB()"
   ]
  },
  {
   "cell_type": "code",
   "execution_count": 9,
   "id": "960fc64f",
   "metadata": {},
   "outputs": [
    {
     "data": {
      "text/plain": [
       "['/Users/matilorenzatti/Documents/estudio_trabajo/Trabajo/Proyectos Varios/Challenge Mercado Libre/data/o1_bronze/ITU_DH_HH_INT_ARG.json',\n",
       " '/Users/matilorenzatti/Documents/estudio_trabajo/Trabajo/Proyectos Varios/Challenge Mercado Libre/data/o1_bronze/ITU_DH_TRAF_MOB_BB_ARG.json',\n",
       " '/Users/matilorenzatti/Documents/estudio_trabajo/Trabajo/Proyectos Varios/Challenge Mercado Libre/data/o1_bronze/ITU_DH_PRI_FIX_BB_5G_ARG.json',\n",
       " '/Users/matilorenzatti/Documents/estudio_trabajo/Trabajo/Proyectos Varios/Challenge Mercado Libre/data/o1_bronze/ITU_DH_INT_USER_PT_ARG.json',\n",
       " '/Users/matilorenzatti/Documents/estudio_trabajo/Trabajo/Proyectos Varios/Challenge Mercado Libre/data/o1_bronze/ITU_DH_INT_BAND_PER_CAP_ARG.json',\n",
       " '/Users/matilorenzatti/Documents/estudio_trabajo/Trabajo/Proyectos Varios/Challenge Mercado Libre/data/o1_bronze/ITU_DH_PRI_DO_MOB_ARG.json',\n",
       " '/Users/matilorenzatti/Documents/estudio_trabajo/Trabajo/Proyectos Varios/Challenge Mercado Libre/data/o1_bronze/ITU_DH_HH_COMP_ARG.json',\n",
       " '/Users/matilorenzatti/Documents/estudio_trabajo/Trabajo/Proyectos Varios/Challenge Mercado Libre/data/o1_bronze/ITU_DH_PRI_HU_VD_ARG.json',\n",
       " '/Users/matilorenzatti/Documents/estudio_trabajo/Trabajo/Proyectos Varios/Challenge Mercado Libre/data/o1_bronze/ITU_DH_PRI_LU_MOB_ARG.json',\n",
       " '/Users/matilorenzatti/Documents/estudio_trabajo/Trabajo/Proyectos Varios/Challenge Mercado Libre/data/o1_bronze/ITU_DH_INT_BAND_PER_INT_USR_ARG.json',\n",
       " '/Users/matilorenzatti/Documents/estudio_trabajo/Trabajo/Proyectos Varios/Challenge Mercado Libre/data/o1_bronze/ITU_DH_FIX_TEL_OR_MOB_ARG.json',\n",
       " '/Users/matilorenzatti/Documents/estudio_trabajo/Trabajo/Proyectos Varios/Challenge Mercado Libre/data/o1_bronze/ITU_DH_INT_CONN_BAND_MBIT_ARG.json',\n",
       " '/Users/matilorenzatti/Documents/estudio_trabajo/Trabajo/Proyectos Varios/Challenge Mercado Libre/data/o1_bronze/ITU_DH_PRI_LU_VD_ARG.json',\n",
       " '/Users/matilorenzatti/Documents/estudio_trabajo/Trabajo/Proyectos Varios/Challenge Mercado Libre/data/o1_bronze/ITU_DH_FIX_SUB_PER_100_ARG.json',\n",
       " '/Users/matilorenzatti/Documents/estudio_trabajo/Trabajo/Proyectos Varios/Challenge Mercado Libre/data/o1_bronze/ITU_DH_POP_COV_3G_ARG.json',\n",
       " '/Users/matilorenzatti/Documents/estudio_trabajo/Trabajo/Proyectos Varios/Challenge Mercado Libre/data/o1_bronze/ITU_DH_FIX_BR_SUB_PER_100_ARG.json',\n",
       " '/Users/matilorenzatti/Documents/estudio_trabajo/Trabajo/Proyectos Varios/Challenge Mercado Libre/data/o1_bronze/ITU_DH_MOB_SUB_PER_100_ARG.json',\n",
       " '/Users/matilorenzatti/Documents/estudio_trabajo/Trabajo/Proyectos Varios/Challenge Mercado Libre/data/o1_bronze/ITU_DH_POP_COV_4G_ARG.json',\n",
       " '/Users/matilorenzatti/Documents/estudio_trabajo/Trabajo/Proyectos Varios/Challenge Mercado Libre/data/o1_bronze/ITU_DH_INV_COMP_ARG.json',\n",
       " '/Users/matilorenzatti/Documents/estudio_trabajo/Trabajo/Proyectos Varios/Challenge Mercado Libre/data/o1_bronze/ITU_DH_INT_CONN_BAND_ARG.json',\n",
       " '/Users/matilorenzatti/Documents/estudio_trabajo/Trabajo/Proyectos Varios/Challenge Mercado Libre/data/o1_bronze/ITU_DH_COMP_INT_SER_ARG.json',\n",
       " '/Users/matilorenzatti/Documents/estudio_trabajo/Trabajo/Proyectos Varios/Challenge Mercado Libre/data/o1_bronze/ITU_DH_POP_COV_2G_ARG.json',\n",
       " '/Users/matilorenzatti/Documents/estudio_trabajo/Trabajo/Proyectos Varios/Challenge Mercado Libre/data/o1_bronze/ITU_DH_COMP_INT_GTW_ARG.json']"
      ]
     },
     "execution_count": 9,
     "metadata": {},
     "output_type": "execute_result"
    }
   ],
   "source": [
    "dfs_wb.listar_jsons_validos()"
   ]
  },
  {
   "cell_type": "code",
   "execution_count": 10,
   "id": "623f9f70",
   "metadata": {},
   "outputs": [],
   "source": [
    "wb_test_wdl = DataWB(ref_area=\"WLD\")"
   ]
  },
  {
   "cell_type": "code",
   "execution_count": 11,
   "id": "cc45b232",
   "metadata": {},
   "outputs": [
    {
     "data": {
      "text/plain": [
       "'✅ Todos los 23 indicadores fueron extraídos correctamente.'"
      ]
     },
     "execution_count": 11,
     "metadata": {},
     "output_type": "execute_result"
    }
   ],
   "source": [
    "indicadores_wdl = cargar_indicadores_validos_arg()\n",
    "\n",
    "wb_test_wdl.obtener_all_data(indicadores_wdl)"
   ]
  },
  {
   "cell_type": "code",
   "execution_count": 15,
   "id": "1049d782",
   "metadata": {},
   "outputs": [],
   "source": [
    "dfs_varios = dfs_wb.obtener_todos_df()"
   ]
  },
  {
   "cell_type": "code",
   "execution_count": 16,
   "id": "e2efc059",
   "metadata": {},
   "outputs": [
    {
     "data": {
      "text/plain": [
       "dict_keys(['ITU_DH_HH_INT_ARG', 'ITU_DH_TRAF_MOB_BB_ARG', 'ITU_DH_PRI_FIX_BB_5G_ARG', 'ITU_DH_INT_USER_PT_ARG', 'ITU_DH_INT_BAND_PER_CAP_ARG', 'ITU_DH_PRI_DO_MOB_ARG', 'ITU_DH_HH_COMP_ARG', 'ITU_DH_PRI_HU_VD_ARG', 'ITU_DH_PRI_LU_MOB_ARG', 'ITU_DH_INT_BAND_PER_INT_USR_ARG', 'ITU_DH_FIX_TEL_OR_MOB_ARG', 'ITU_DH_INT_CONN_BAND_MBIT_ARG', 'ITU_DH_PRI_LU_VD_ARG', 'ITU_DH_FIX_SUB_PER_100_ARG', 'ITU_DH_POP_COV_3G_ARG', 'ITU_DH_FIX_BR_SUB_PER_100_ARG', 'ITU_DH_MOB_SUB_PER_100_ARG', 'ITU_DH_POP_COV_4G_ARG', 'ITU_DH_INV_COMP_ARG', 'ITU_DH_INT_CONN_BAND_ARG', 'ITU_DH_COMP_INT_SER_ARG', 'ITU_DH_POP_COV_2G_ARG', 'ITU_DH_COMP_INT_GTW_ARG', 'ITU_DH_HH_INT_WLD', 'ITU_DH_TRAF_MOB_BB_WLD', 'ITU_DH_PRI_FIX_BB_5G_WLD', 'ITU_DH_INT_USER_PT_WLD', 'ITU_DH_INT_BAND_PER_CAP_WLD', 'ITU_DH_PRI_DO_MOB_WLD', 'ITU_DH_HH_COMP_WLD', 'ITU_DH_PRI_HU_VD_WLD', 'ITU_DH_PRI_LU_MOB_WLD', 'ITU_DH_INT_BAND_PER_INT_USR_WLD', 'ITU_DH_PRI_LU_VD_WLD', 'ITU_DH_FIX_SUB_PER_100_WLD', 'ITU_DH_POP_COV_3G_WLD', 'ITU_DH_FIX_BR_SUB_PER_100_WLD', 'ITU_DH_MOB_SUB_PER_100_WLD', 'ITU_DH_POP_COV_4G_WLD', 'ITU_DH_INT_CONN_BAND_WLD', 'ITU_DH_POP_COV_2G_WLD'])"
      ]
     },
     "execution_count": 16,
     "metadata": {},
     "output_type": "execute_result"
    }
   ],
   "source": [
    "dfs_varios.keys()"
   ]
  },
  {
   "cell_type": "code",
   "execution_count": 17,
   "id": "70c8748c",
   "metadata": {},
   "outputs": [
    {
     "data": {
      "text/html": [
       "<div>\n",
       "<style scoped>\n",
       "    .dataframe tbody tr th:only-of-type {\n",
       "        vertical-align: middle;\n",
       "    }\n",
       "\n",
       "    .dataframe tbody tr th {\n",
       "        vertical-align: top;\n",
       "    }\n",
       "\n",
       "    .dataframe thead th {\n",
       "        text-align: right;\n",
       "    }\n",
       "</style>\n",
       "<table border=\"1\" class=\"dataframe\">\n",
       "  <thead>\n",
       "    <tr style=\"text-align: right;\">\n",
       "      <th></th>\n",
       "      <th>OBS_VALUE</th>\n",
       "      <th>TIME_FORMAT</th>\n",
       "      <th>UNIT_MULT</th>\n",
       "      <th>COMMENT_OBS</th>\n",
       "      <th>OBS_STATUS</th>\n",
       "      <th>OBS_CONF</th>\n",
       "      <th>AGG_METHOD</th>\n",
       "      <th>DECIMALS</th>\n",
       "      <th>COMMENT_TS</th>\n",
       "      <th>DATA_SOURCE</th>\n",
       "      <th>LATEST_DATA</th>\n",
       "      <th>DATABASE_ID</th>\n",
       "      <th>INDICATOR</th>\n",
       "      <th>REF_AREA</th>\n",
       "      <th>SEX</th>\n",
       "      <th>AGE</th>\n",
       "      <th>URBANISATION</th>\n",
       "      <th>COMP_BREAKDOWN_1</th>\n",
       "      <th>COMP_BREAKDOWN_2</th>\n",
       "      <th>COMP_BREAKDOWN_3</th>\n",
       "      <th>TIME_PERIOD</th>\n",
       "      <th>FREQ</th>\n",
       "      <th>UNIT_MEASURE</th>\n",
       "      <th>UNIT_TYPE</th>\n",
       "      <th>source_file</th>\n",
       "    </tr>\n",
       "  </thead>\n",
       "  <tbody>\n",
       "    <tr>\n",
       "      <th>9</th>\n",
       "      <td>21.7521</td>\n",
       "      <td>602</td>\n",
       "      <td>0</td>\n",
       "      <td>None</td>\n",
       "      <td>A</td>\n",
       "      <td>PU</td>\n",
       "      <td>MEAN</td>\n",
       "      <td>None</td>\n",
       "      <td>None</td>\n",
       "      <td>None</td>\n",
       "      <td>False</td>\n",
       "      <td>ITU_DH</td>\n",
       "      <td>ITU_DH_FIX_SUB_PER_100</td>\n",
       "      <td>WLD</td>\n",
       "      <td>_T</td>\n",
       "      <td>_T</td>\n",
       "      <td>_T</td>\n",
       "      <td>_Z</td>\n",
       "      <td>_Z</td>\n",
       "      <td>_Z</td>\n",
       "      <td>2009</td>\n",
       "      <td>A</td>\n",
       "      <td>SB_10P2_HB</td>\n",
       "      <td>None</td>\n",
       "      <td>ITU_DH_FIX_SUB_PER_100_WLD.json</td>\n",
       "    </tr>\n",
       "    <tr>\n",
       "      <th>18</th>\n",
       "      <td>16.94</td>\n",
       "      <td>602</td>\n",
       "      <td>0</td>\n",
       "      <td>None</td>\n",
       "      <td>A</td>\n",
       "      <td>PU</td>\n",
       "      <td>MEAN</td>\n",
       "      <td>None</td>\n",
       "      <td>None</td>\n",
       "      <td>None</td>\n",
       "      <td>False</td>\n",
       "      <td>ITU_DH</td>\n",
       "      <td>ITU_DH_FIX_SUB_PER_100</td>\n",
       "      <td>WLD</td>\n",
       "      <td>_T</td>\n",
       "      <td>_T</td>\n",
       "      <td>_T</td>\n",
       "      <td>_Z</td>\n",
       "      <td>_Z</td>\n",
       "      <td>_Z</td>\n",
       "      <td>2018</td>\n",
       "      <td>A</td>\n",
       "      <td>SB_10P2_HB</td>\n",
       "      <td>None</td>\n",
       "      <td>ITU_DH_FIX_SUB_PER_100_WLD.json</td>\n",
       "    </tr>\n",
       "    <tr>\n",
       "      <th>17</th>\n",
       "      <td>17.4569</td>\n",
       "      <td>602</td>\n",
       "      <td>0</td>\n",
       "      <td>None</td>\n",
       "      <td>A</td>\n",
       "      <td>PU</td>\n",
       "      <td>MEAN</td>\n",
       "      <td>None</td>\n",
       "      <td>None</td>\n",
       "      <td>None</td>\n",
       "      <td>False</td>\n",
       "      <td>ITU_DH</td>\n",
       "      <td>ITU_DH_FIX_SUB_PER_100</td>\n",
       "      <td>WLD</td>\n",
       "      <td>_T</td>\n",
       "      <td>_T</td>\n",
       "      <td>_T</td>\n",
       "      <td>_Z</td>\n",
       "      <td>_Z</td>\n",
       "      <td>_Z</td>\n",
       "      <td>2017</td>\n",
       "      <td>A</td>\n",
       "      <td>SB_10P2_HB</td>\n",
       "      <td>None</td>\n",
       "      <td>ITU_DH_FIX_SUB_PER_100_WLD.json</td>\n",
       "    </tr>\n",
       "  </tbody>\n",
       "</table>\n",
       "</div>"
      ],
      "text/plain": [
       "   OBS_VALUE TIME_FORMAT  UNIT_MULT COMMENT_OBS OBS_STATUS OBS_CONF  \\\n",
       "9    21.7521         602          0        None          A       PU   \n",
       "18     16.94         602          0        None          A       PU   \n",
       "17   17.4569         602          0        None          A       PU   \n",
       "\n",
       "   AGG_METHOD DECIMALS COMMENT_TS DATA_SOURCE  LATEST_DATA DATABASE_ID  \\\n",
       "9        MEAN     None       None        None        False      ITU_DH   \n",
       "18       MEAN     None       None        None        False      ITU_DH   \n",
       "17       MEAN     None       None        None        False      ITU_DH   \n",
       "\n",
       "                 INDICATOR REF_AREA SEX AGE URBANISATION COMP_BREAKDOWN_1  \\\n",
       "9   ITU_DH_FIX_SUB_PER_100      WLD  _T  _T           _T               _Z   \n",
       "18  ITU_DH_FIX_SUB_PER_100      WLD  _T  _T           _T               _Z   \n",
       "17  ITU_DH_FIX_SUB_PER_100      WLD  _T  _T           _T               _Z   \n",
       "\n",
       "   COMP_BREAKDOWN_2 COMP_BREAKDOWN_3 TIME_PERIOD FREQ UNIT_MEASURE UNIT_TYPE  \\\n",
       "9                _Z               _Z        2009    A   SB_10P2_HB      None   \n",
       "18               _Z               _Z        2018    A   SB_10P2_HB      None   \n",
       "17               _Z               _Z        2017    A   SB_10P2_HB      None   \n",
       "\n",
       "                        source_file  \n",
       "9   ITU_DH_FIX_SUB_PER_100_WLD.json  \n",
       "18  ITU_DH_FIX_SUB_PER_100_WLD.json  \n",
       "17  ITU_DH_FIX_SUB_PER_100_WLD.json  "
      ]
     },
     "execution_count": 17,
     "metadata": {},
     "output_type": "execute_result"
    }
   ],
   "source": [
    "dfs_varios['ITU_DH_FIX_SUB_PER_100_WLD'].sample(3)"
   ]
  },
  {
   "cell_type": "code",
   "execution_count": 18,
   "id": "63768741",
   "metadata": {},
   "outputs": [
    {
     "data": {
      "text/html": [
       "<div>\n",
       "<style scoped>\n",
       "    .dataframe tbody tr th:only-of-type {\n",
       "        vertical-align: middle;\n",
       "    }\n",
       "\n",
       "    .dataframe tbody tr th {\n",
       "        vertical-align: top;\n",
       "    }\n",
       "\n",
       "    .dataframe thead th {\n",
       "        text-align: right;\n",
       "    }\n",
       "</style>\n",
       "<table border=\"1\" class=\"dataframe\">\n",
       "  <thead>\n",
       "    <tr style=\"text-align: right;\">\n",
       "      <th></th>\n",
       "      <th>OBS_VALUE</th>\n",
       "      <th>TIME_FORMAT</th>\n",
       "      <th>UNIT_MULT</th>\n",
       "      <th>COMMENT_OBS</th>\n",
       "      <th>OBS_STATUS</th>\n",
       "      <th>OBS_CONF</th>\n",
       "      <th>AGG_METHOD</th>\n",
       "      <th>DECIMALS</th>\n",
       "      <th>COMMENT_TS</th>\n",
       "      <th>DATA_SOURCE</th>\n",
       "      <th>LATEST_DATA</th>\n",
       "      <th>DATABASE_ID</th>\n",
       "      <th>INDICATOR</th>\n",
       "      <th>REF_AREA</th>\n",
       "      <th>SEX</th>\n",
       "      <th>AGE</th>\n",
       "      <th>URBANISATION</th>\n",
       "      <th>COMP_BREAKDOWN_1</th>\n",
       "      <th>COMP_BREAKDOWN_2</th>\n",
       "      <th>COMP_BREAKDOWN_3</th>\n",
       "      <th>TIME_PERIOD</th>\n",
       "      <th>FREQ</th>\n",
       "      <th>UNIT_MEASURE</th>\n",
       "      <th>UNIT_TYPE</th>\n",
       "      <th>source_file</th>\n",
       "    </tr>\n",
       "  </thead>\n",
       "  <tbody>\n",
       "    <tr>\n",
       "      <th>3</th>\n",
       "      <td>22.3917</td>\n",
       "      <td>602</td>\n",
       "      <td>0</td>\n",
       "      <td>None</td>\n",
       "      <td>A</td>\n",
       "      <td>PU</td>\n",
       "      <td>MEAN</td>\n",
       "      <td>None</td>\n",
       "      <td>None</td>\n",
       "      <td>None</td>\n",
       "      <td>False</td>\n",
       "      <td>ITU_DH</td>\n",
       "      <td>ITU_DH_FIX_SUB_PER_100</td>\n",
       "      <td>ARG</td>\n",
       "      <td>_T</td>\n",
       "      <td>_T</td>\n",
       "      <td>_T</td>\n",
       "      <td>_Z</td>\n",
       "      <td>_Z</td>\n",
       "      <td>_Z</td>\n",
       "      <td>2003</td>\n",
       "      <td>A</td>\n",
       "      <td>SB_10P2_HB</td>\n",
       "      <td>None</td>\n",
       "      <td>ITU_DH_FIX_SUB_PER_100_ARG.json</td>\n",
       "    </tr>\n",
       "    <tr>\n",
       "      <th>16</th>\n",
       "      <td>23.1544</td>\n",
       "      <td>602</td>\n",
       "      <td>0</td>\n",
       "      <td>None</td>\n",
       "      <td>A</td>\n",
       "      <td>PU</td>\n",
       "      <td>MEAN</td>\n",
       "      <td>None</td>\n",
       "      <td>None</td>\n",
       "      <td>None</td>\n",
       "      <td>False</td>\n",
       "      <td>ITU_DH</td>\n",
       "      <td>ITU_DH_FIX_SUB_PER_100</td>\n",
       "      <td>ARG</td>\n",
       "      <td>_T</td>\n",
       "      <td>_T</td>\n",
       "      <td>_T</td>\n",
       "      <td>_Z</td>\n",
       "      <td>_Z</td>\n",
       "      <td>_Z</td>\n",
       "      <td>2016</td>\n",
       "      <td>A</td>\n",
       "      <td>SB_10P2_HB</td>\n",
       "      <td>None</td>\n",
       "      <td>ITU_DH_FIX_SUB_PER_100_ARG.json</td>\n",
       "    </tr>\n",
       "    <tr>\n",
       "      <th>9</th>\n",
       "      <td>23.9094</td>\n",
       "      <td>602</td>\n",
       "      <td>0</td>\n",
       "      <td>None</td>\n",
       "      <td>A</td>\n",
       "      <td>PU</td>\n",
       "      <td>MEAN</td>\n",
       "      <td>None</td>\n",
       "      <td>None</td>\n",
       "      <td>None</td>\n",
       "      <td>False</td>\n",
       "      <td>ITU_DH</td>\n",
       "      <td>ITU_DH_FIX_SUB_PER_100</td>\n",
       "      <td>ARG</td>\n",
       "      <td>_T</td>\n",
       "      <td>_T</td>\n",
       "      <td>_T</td>\n",
       "      <td>_Z</td>\n",
       "      <td>_Z</td>\n",
       "      <td>_Z</td>\n",
       "      <td>2009</td>\n",
       "      <td>A</td>\n",
       "      <td>SB_10P2_HB</td>\n",
       "      <td>None</td>\n",
       "      <td>ITU_DH_FIX_SUB_PER_100_ARG.json</td>\n",
       "    </tr>\n",
       "  </tbody>\n",
       "</table>\n",
       "</div>"
      ],
      "text/plain": [
       "   OBS_VALUE TIME_FORMAT  UNIT_MULT COMMENT_OBS OBS_STATUS OBS_CONF  \\\n",
       "3    22.3917         602          0        None          A       PU   \n",
       "16   23.1544         602          0        None          A       PU   \n",
       "9    23.9094         602          0        None          A       PU   \n",
       "\n",
       "   AGG_METHOD DECIMALS COMMENT_TS DATA_SOURCE  LATEST_DATA DATABASE_ID  \\\n",
       "3        MEAN     None       None        None        False      ITU_DH   \n",
       "16       MEAN     None       None        None        False      ITU_DH   \n",
       "9        MEAN     None       None        None        False      ITU_DH   \n",
       "\n",
       "                 INDICATOR REF_AREA SEX AGE URBANISATION COMP_BREAKDOWN_1  \\\n",
       "3   ITU_DH_FIX_SUB_PER_100      ARG  _T  _T           _T               _Z   \n",
       "16  ITU_DH_FIX_SUB_PER_100      ARG  _T  _T           _T               _Z   \n",
       "9   ITU_DH_FIX_SUB_PER_100      ARG  _T  _T           _T               _Z   \n",
       "\n",
       "   COMP_BREAKDOWN_2 COMP_BREAKDOWN_3 TIME_PERIOD FREQ UNIT_MEASURE UNIT_TYPE  \\\n",
       "3                _Z               _Z        2003    A   SB_10P2_HB      None   \n",
       "16               _Z               _Z        2016    A   SB_10P2_HB      None   \n",
       "9                _Z               _Z        2009    A   SB_10P2_HB      None   \n",
       "\n",
       "                        source_file  \n",
       "3   ITU_DH_FIX_SUB_PER_100_ARG.json  \n",
       "16  ITU_DH_FIX_SUB_PER_100_ARG.json  \n",
       "9   ITU_DH_FIX_SUB_PER_100_ARG.json  "
      ]
     },
     "execution_count": 18,
     "metadata": {},
     "output_type": "execute_result"
    }
   ],
   "source": [
    "dfs_varios['ITU_DH_FIX_SUB_PER_100_ARG'].sample(3)"
   ]
  },
  {
   "cell_type": "code",
   "execution_count": null,
   "id": "e32e2a4b",
   "metadata": {},
   "outputs": [],
   "source": []
  },
  {
   "cell_type": "code",
   "execution_count": 19,
   "id": "02ab0fa0",
   "metadata": {},
   "outputs": [
    {
     "data": {
      "text/plain": [
       "['ITU_DH_HH_INT',\n",
       " 'ITU_DH_TRAF_MOB_BB',\n",
       " 'ITU_DH_PRI_FIX_BB_5G',\n",
       " 'ITU_DH_INT_USER_PT',\n",
       " 'ITU_DH_INT_BAND_PER_CAP',\n",
       " 'ITU_DH_PRI_DO_MOB',\n",
       " 'ITU_DH_HH_COMP',\n",
       " 'ITU_DH_PRI_HU_VD',\n",
       " 'ITU_DH_PRI_LU_MOB',\n",
       " 'ITU_DH_INT_BAND_PER_INT_USR',\n",
       " 'ITU_DH_FIX_TEL_OR_MOB',\n",
       " 'ITU_DH_INT_CONN_BAND_MBIT',\n",
       " 'ITU_DH_PRI_LU_VD',\n",
       " 'ITU_DH_FIX_SUB_PER_100',\n",
       " 'ITU_DH_POP_COV_3G',\n",
       " 'ITU_DH_FIX_BR_SUB_PER_100',\n",
       " 'ITU_DH_MOB_SUB_PER_100',\n",
       " 'ITU_DH_POP_COV_4G',\n",
       " 'ITU_DH_INV_COMP',\n",
       " 'ITU_DH_INT_CONN_BAND',\n",
       " 'ITU_DH_COMP_INT_SER',\n",
       " 'ITU_DH_POP_COV_2G',\n",
       " 'ITU_DH_COMP_INT_GTW']"
      ]
     },
     "execution_count": 19,
     "metadata": {},
     "output_type": "execute_result"
    }
   ],
   "source": [
    "cargar_indicadores_validos_arg()"
   ]
  },
  {
   "cell_type": "code",
   "execution_count": null,
   "id": "65a5e9fe",
   "metadata": {},
   "outputs": [],
   "source": []
  }
 ],
 "metadata": {
  "kernelspec": {
   "display_name": "meli_env",
   "language": "python",
   "name": "python3"
  },
  "language_info": {
   "codemirror_mode": {
    "name": "ipython",
    "version": 3
   },
   "file_extension": ".py",
   "mimetype": "text/x-python",
   "name": "python",
   "nbconvert_exporter": "python",
   "pygments_lexer": "ipython3",
   "version": "3.10.6"
  }
 },
 "nbformat": 4,
 "nbformat_minor": 5
}
