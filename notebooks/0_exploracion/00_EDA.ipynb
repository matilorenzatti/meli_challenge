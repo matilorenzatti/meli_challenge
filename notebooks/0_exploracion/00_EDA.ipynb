{
 "cells": [
  {
   "cell_type": "markdown",
   "id": "ee82278e",
   "metadata": {},
   "source": [
    "# EDA - Explorando API's y datos\n",
    "---\n",
    "\n",
    "Este notebook tiene la finalidad de explorar las API y los datos, conoce su estructura, y empezar a formalizar la extraccion de los mismos"
   ]
  },
  {
   "cell_type": "code",
   "execution_count": 1,
   "id": "84d9177b",
   "metadata": {},
   "outputs": [],
   "source": [
    "import requests\n",
    "import pandas as pd\n",
    "import json\n",
    "import os\n",
    "\n",
    "\n",
    "# Configuración para recargar automáticamente módulos modificados\n",
    "%load_ext autoreload\n",
    "%autoreload 2"
   ]
  },
  {
   "cell_type": "code",
   "execution_count": null,
   "id": "fafbbc2a",
   "metadata": {},
   "outputs": [],
   "source": []
  },
  {
   "cell_type": "code",
   "execution_count": null,
   "id": "90a5f4c9",
   "metadata": {},
   "outputs": [],
   "source": []
  },
  {
   "cell_type": "code",
   "execution_count": null,
   "id": "e04c6d45",
   "metadata": {},
   "outputs": [],
   "source": []
  }
 ],
 "metadata": {
  "kernelspec": {
   "display_name": "meli_env",
   "language": "python",
   "name": "python3"
  },
  "language_info": {
   "codemirror_mode": {
    "name": "ipython",
    "version": 3
   },
   "file_extension": ".py",
   "mimetype": "text/x-python",
   "name": "python",
   "nbconvert_exporter": "python",
   "pygments_lexer": "ipython3",
   "version": "3.10.6"
  }
 },
 "nbformat": 4,
 "nbformat_minor": 5
}
